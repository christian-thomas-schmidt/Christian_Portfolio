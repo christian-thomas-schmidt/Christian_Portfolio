{
  "nbformat": 4,
  "nbformat_minor": 0,
  "metadata": {
    "colab": {
      "name": "Assignment 1-Helper Code.ipynb",
      "provenance": [],
      "collapsed_sections": [],
      "include_colab_link": true
    },
    "kernelspec": {
      "name": "python3",
      "display_name": "Python 3"
    },
    "language_info": {
      "name": "python"
    }
  },
  "cells": [
    {
      "cell_type": "markdown",
      "metadata": {
        "id": "view-in-github",
        "colab_type": "text"
      },
      "source": [
        "<a href=\"https://colab.research.google.com/github/christian-thomas-schmidt/Christian_Portfolio/blob/main/Assignment_1_Helper_Code.ipynb\" target=\"_parent\"><img src=\"https://colab.research.google.com/assets/colab-badge.svg\" alt=\"Open In Colab\"/></a>"
      ]
    },
    {
      "cell_type": "code",
      "source": [
        "!pip install --ignore-installed -q pyspark==3.2.1"
      ],
      "metadata": {
        "colab": {
          "base_uri": "https://localhost:8080/"
        },
        "id": "DazkoYEnNvCk",
        "outputId": "ffbcbed3-723b-4e70-d3aa-d1c127c804e9"
      },
      "execution_count": 2,
      "outputs": [
        {
          "output_type": "stream",
          "name": "stdout",
          "text": [
            "\u001b[K     |████████████████████████████████| 281.4 MB 34 kB/s \n",
            "\u001b[K     |████████████████████████████████| 198 kB 52.5 MB/s \n",
            "\u001b[?25h  Building wheel for pyspark (setup.py) ... \u001b[?25l\u001b[?25hdone\n"
          ]
        }
      ]
    },
    {
      "cell_type": "code",
      "source": [
        "import os\n",
        "import sys\n",
        "import requests\n",
        "from operator import add\n",
        "\n",
        "from pyspark import SparkConf,SparkContext\n",
        "from pyspark.streaming import StreamingContext\n",
        "\n",
        "from pyspark.sql import SparkSession\n",
        "from pyspark.sql import SQLContext\n",
        "\n",
        "from pyspark.sql.types import *\n",
        "from pyspark.sql import functions as func\n",
        "from pyspark.sql.functions import *\n",
        "\n",
        "spark = SparkSession.builder.master(\"local[*]\").getOrCreate()\n",
        "sc = SparkContext.getOrCreate()\n",
        "sqlContext = SQLContext(sc)\n",
        "\n"
      ],
      "metadata": {
        "colab": {
          "base_uri": "https://localhost:8080/"
        },
        "id": "26OFIJedNvKh",
        "outputId": "50df7b22-08a7-40da-ebec-079e86ec69c6"
      },
      "execution_count": 3,
      "outputs": [
        {
          "output_type": "stream",
          "name": "stderr",
          "text": [
            "/usr/local/lib/python3.7/dist-packages/pyspark/sql/context.py:79: FutureWarning: Deprecated in 3.0.0. Use SparkSession.builder.getOrCreate() instead.\n",
            "  FutureWarning\n"
          ]
        }
      ]
    },
    {
      "cell_type": "code",
      "source": [
        "\n",
        "# requesting Spark context\n",
        "# sc = SparkContext(appName=\"HW1_Task1\")"
      ],
      "metadata": {
        "id": "a-C4bfG6gmBN"
      },
      "execution_count": null,
      "outputs": []
    },
    {
      "cell_type": "code",
      "source": [
        "#Exception Handling and removing wrong datalines\n",
        "def isfloat(value):\n",
        "    try:\n",
        "        float(value)\n",
        "        return True\n",
        " \n",
        "    except:\n",
        "         return False"
      ],
      "metadata": {
        "id": "fUfKATdbNvlT"
      },
      "execution_count": 4,
      "outputs": []
    },
    {
      "cell_type": "code",
      "source": [
        "#For example, remove lines if they don’t have 16 values and \n",
        "# checking if the trip distance and fare amount is a float number\n",
        "# checking if the trip duration is more than a minute, trip distance is more than 0.1 miles, \n",
        "# fare amount and total amount are more than 0.1 dollars\n",
        "def correctRows(p):\n",
        "    if(len(p)==17):\n",
        "        if(isfloat(p[5]) and isfloat(p[11])):\n",
        "            if(float(p[4])> 60 and float(p[5])>0.10 and float(p[11])> 0.10 and float(p[16])> 0.10):\n",
        "                return p\n",
        "\n"
      ],
      "metadata": {
        "id": "PQ6EEJgFNvoP"
      },
      "execution_count": 5,
      "outputs": []
    },
    {
      "cell_type": "code",
      "source": [
        "# Upload the data\n",
        "# At this point you have to upload your data to google colab\n",
        "! wget -q https://storage.googleapis.com/cs777_spring_2022_public/taxi-data-sorted-verysmall.csv"
      ],
      "metadata": {
        "id": "X82Ws7RNPkdU"
      },
      "execution_count": 6,
      "outputs": []
    },
    {
      "cell_type": "code",
      "source": [
        "pwd"
      ],
      "metadata": {
        "colab": {
          "base_uri": "https://localhost:8080/",
          "height": 35
        },
        "id": "pM_-691TQEsI",
        "outputId": "1dd069f0-5325-468e-b525-4d73dcc57766"
      },
      "execution_count": 7,
      "outputs": [
        {
          "output_type": "execute_result",
          "data": {
            "text/plain": [
              "'/content'"
            ],
            "application/vnd.google.colaboratory.intrinsic+json": {
              "type": "string"
            }
          },
          "metadata": {},
          "execution_count": 7
        }
      ]
    },
    {
      "cell_type": "markdown",
      "source": [
        "# New Section"
      ],
      "metadata": {
        "id": "zV0E1m-AmDRj"
      }
    },
    {
      "cell_type": "code",
      "source": [
        "ls -la"
      ],
      "metadata": {
        "colab": {
          "base_uri": "https://localhost:8080/"
        },
        "id": "qpU6TnrdQE32",
        "outputId": "081b395a-7c2e-41d8-ac18-dd38427a46aa"
      },
      "execution_count": 8,
      "outputs": [
        {
          "output_type": "stream",
          "name": "stdout",
          "text": [
            "total 1896\n",
            "drwxr-xr-x 1 root root    4096 May 20 02:20 \u001b[0m\u001b[01;34m.\u001b[0m/\n",
            "drwxr-xr-x 1 root root    4096 May 20 02:14 \u001b[01;34m..\u001b[0m/\n",
            "drwxr-xr-x 4 root root    4096 May 17 13:38 \u001b[01;34m.config\u001b[0m/\n",
            "drwxr-xr-x 1 root root    4096 May 17 13:39 \u001b[01;34msample_data\u001b[0m/\n",
            "-rw-r--r-- 1 root root 1921037 Mar 11 15:07 taxi-data-sorted-verysmall.csv\n"
          ]
        }
      ]
    },
    {
      "cell_type": "code",
      "source": [
        "# Set your file path here \n",
        "path=\"file:///content/\"\n",
        "\n",
        "# You have 1 files \n",
        "\n",
        "testFile= path + \"taxi-data-sorted-verysmall.csv\"\n",
        "\n",
        "\n",
        "testDataFrame = sqlContext.read.format('csv').options(header='true', inferSchema='true',  sep =\",\").load(testFile)\n",
        "\n",
        "testDataFrame.show()"
      ],
      "metadata": {
        "colab": {
          "base_uri": "https://localhost:8080/"
        },
        "id": "9-7tAoUMQE7X",
        "outputId": "d47f321c-bdca-4884-eb4d-91459f72c933"
      },
      "execution_count": 9,
      "outputs": [
        {
          "output_type": "stream",
          "name": "stdout",
          "text": [
            "+--------------------------------+--------------------------------+-------------------+-------------------+---+----+----------+---------+----------+---------+---+----+------+------+------+------+----+\n",
            "|07290D3599E7A0D62097A346EFCC1FB5|E7750A37CAB07D0DFF0AF7E3573AC141|2013-01-01 00:00:00|2013-01-01 00:02:00|120|0.44|-73.956528|40.716976|-73.962440|40.715008|CSH|3.50|0.5012|0.5013|0.0014|0.0015|4.50|\n",
            "+--------------------------------+--------------------------------+-------------------+-------------------+---+----+----------+---------+----------+---------+---+----+------+------+------+------+----+\n",
            "|            22D70BF00EEB0ADC8...|            3FF2709163DE7036F...|2013-01-01 00:02:00|2013-01-01 00:02:00|  0| 0.0|       0.0|      0.0|       0.0|      0.0|CSH|27.0|   0.0|   0.5|   0.0|   0.0|27.5|\n",
            "|            0EC22AAF491A8BD91...|            778C92B26AE78A9EB...|2013-01-01 00:01:00|2013-01-01 00:03:00|120|0.71|-73.973145|40.752827|-73.965897|40.760445|CSH| 4.0|   0.5|   0.5|   0.0|   0.0| 5.0|\n",
            "|            1390FB380189DF6BB...|            BE317B986700F63C4...|2013-01-01 00:01:00|2013-01-01 00:03:00|120|0.48|-74.004173|40.720947|-74.003838|40.726189|CSH| 4.0|   0.5|   0.5|   0.0|   0.0| 5.0|\n",
            "|            3B4129883A1D05BE8...|            7077F9FD5AD649AEA...|2013-01-01 00:01:00|2013-01-01 00:03:00|120|0.61|-73.987373|40.724861|-73.983772|40.730995|CRD| 4.0|   0.5|   0.5|   0.0|   0.0| 5.0|\n",
            "|            5FAA7F69213D26A42...|            00B7691D86D96AEBD...|2013-01-01 00:02:00|2013-01-01 00:03:00| 60| 0.0|       0.0|      0.0|       0.0|      0.0|CRD| 2.5|   0.5|   0.5|  0.25|   0.0|3.75|\n",
            "|            DFBFA82ECA8F7059B...|            CF8604E72D83840FB...|2013-01-01 00:02:00|2013-01-01 00:03:00| 60|0.39|-73.981544|40.781475|-73.979439|40.784386|CRD| 3.0|   0.5|   0.5|   0.7|   0.0| 4.7|\n",
            "|            1E5F4C1CAE7AB3D06...|            E0B2F618053518F24...|2013-01-01 00:03:00|2013-01-01 00:04:00| 60| 0.0|-73.993973|40.751266|       0.0|      0.0|CSH| 2.5|   0.5|   0.5|   0.0|   0.0| 3.5|\n",
            "|            468244D1361B8A3EB...|            BB899DFEA9CC964B5...|2013-01-01 00:00:00|2013-01-01 00:04:00|240|1.71|-73.955383|40.779728|-73.967758|40.760326|CSH| 6.5|   0.5|   0.5|   0.0|   0.0| 7.5|\n",
            "|            5F78CC6D4ECD0541B...|            B7567F5BFD558C665...|2013-01-01 00:00:00|2013-01-01 00:04:00|240|1.21|   -73.973| 40.79314|-73.981453|40.778465|CRD| 6.0|   0.5|   0.5|   1.3|   0.0| 8.3|\n",
            "|            6BA29E9A69B10F218...|            ED368552102F12EA2...|2013-01-01 00:01:00|2013-01-01 00:04:00|180|0.74|-73.971138| 40.75898|-73.972206|40.752502|CRD| 4.5|   0.5|   0.5|   0.0|   0.0| 5.5|\n",
            "|            75C90377AB710B047...|            00B7691D86D96AEBD...|2013-01-01 00:03:00|2013-01-01 00:04:00| 60| 0.0|       0.0|      0.0|       0.0|      0.0|CRD| 3.0|   0.5|   0.5|  0.07|   0.0|4.07|\n",
            "|            C306CAC565429C128...|            E255D5DFB9A967B9D...|2013-01-01 00:01:00|2013-01-01 00:04:00|180|0.84|-73.942841|40.797031| -73.93454|40.797314|CSH| 4.5|   0.5|   0.5|   0.0|   0.0| 5.5|\n",
            "|            C4D6E189EF44EB83E...|            95B5B3CDA9EDC88AA...|2013-01-01 00:03:00|2013-01-01 00:04:00| 60| 0.0|-73.989189|40.721924|       0.0|      0.0|CSH| 2.5|   0.5|   0.5|   0.0|   0.0| 3.5|\n",
            "|            DD467ED2E7DDB5C8B...|            1D7876BD692018A5B...|2013-01-01 00:01:00|2013-01-01 00:04:00|180|0.95|-73.976753|40.750706|-73.990089|40.750729|CSH| 5.0|   0.5|   0.5|   0.0|   0.0| 6.0|\n",
            "|            F8A0B52B22BB58B3C...|            00B7691D86D96AEBD...|2013-01-01 00:03:00|2013-01-01 00:04:00| 60| 0.0|-73.937637|40.758369|-73.937607| 40.75835|CRD| 2.5|   0.5|   0.5|  0.25|   0.0|3.75|\n",
            "|            120E700FE35B2DDBE...|            3EDDD1433E2276DF9...|2013-01-01 00:03:00|2013-01-01 00:05:00|120|0.52|-73.981972|40.752525|-73.985313|40.747738|CSH| 4.0|   0.5|   0.5|   0.0|   0.0| 5.0|\n",
            "|            256C6A3CA47F81497...|            8FA961982C3FEF438...|2013-01-01 00:00:00|2013-01-01 00:05:00|300|0.13|-73.969841|40.797359|-73.961899|40.812466|CSH| 6.5|   0.5|   0.5|   0.0|   0.0| 7.5|\n",
            "|            655E773C92FA44635...|            B6EAE07E2AD023B38...|2013-01-01 00:02:00|2013-01-01 00:05:00|180|1.55|-74.003197|40.733032|-74.012985|40.717377|CRD| 6.0|   0.5|   0.5|  1.62|   0.0|8.62|\n",
            "|            76942C3205E17D7E7...|            25BA06A87905667AA...|2013-01-01 00:00:00|2013-01-01 00:05:00|300|0.61|-73.955925|40.781887|-73.963181|40.777832|CSH| 5.0|   0.5|   0.5|   0.0|   0.0| 6.0|\n",
            "|            8B5F45807D8EC24DD...|            577D1B6729EF9014C...|2013-01-01 00:00:00|2013-01-01 00:05:00|300|0.06|-73.984871|40.753723|-73.983849|40.754467|CSH| 4.5|   0.5|   0.5|   0.0|   0.0| 5.5|\n",
            "+--------------------------------+--------------------------------+-------------------+-------------------+---+----+----------+---------+----------+---------+---+----+------+------+------+------+----+\n",
            "only showing top 20 rows\n",
            "\n"
          ]
        }
      ]
    },
    {
      "cell_type": "code",
      "source": [
        "testRDD = testDataFrame.rdd.map(tuple)\n",
        "testRDD.take(1)"
      ],
      "metadata": {
        "colab": {
          "base_uri": "https://localhost:8080/"
        },
        "id": "nDrjNqbth3GP",
        "outputId": "9fe48daa-8210-4449-d664-5b7e963dbd67"
      },
      "execution_count": 10,
      "outputs": [
        {
          "output_type": "execute_result",
          "data": {
            "text/plain": [
              "[('22D70BF00EEB0ADC83BA8177BB861991',\n",
              "  '3FF2709163DE7036FCAA4E5A3324E4BF',\n",
              "  '2013-01-01 00:02:00',\n",
              "  '2013-01-01 00:02:00',\n",
              "  0,\n",
              "  0.0,\n",
              "  0.0,\n",
              "  0.0,\n",
              "  0.0,\n",
              "  0.0,\n",
              "  'CSH',\n",
              "  27.0,\n",
              "  0.0,\n",
              "  0.5,\n",
              "  0.0,\n",
              "  0.0,\n",
              "  27.5)]"
            ]
          },
          "metadata": {},
          "execution_count": 10
        }
      ]
    },
    {
      "cell_type": "code",
      "source": [
        "\n",
        "# calling isfloat and correctRows functions to cleaning up data\n",
        "taxilinesCorrected = testRDD.filter(correctRows)\n",
        "taxilinesCorrected.take(1)"
      ],
      "metadata": {
        "colab": {
          "base_uri": "https://localhost:8080/"
        },
        "id": "ICsJNxXSN_ub",
        "outputId": "31490736-2b59-4a61-e13e-e07a7bef7744"
      },
      "execution_count": 37,
      "outputs": [
        {
          "output_type": "execute_result",
          "data": {
            "text/plain": [
              "[('0EC22AAF491A8BD91F279350C2B010FD',\n",
              "  '778C92B26AE78A9EBDF96B49C67E4007',\n",
              "  '2013-01-01 00:01:00',\n",
              "  '2013-01-01 00:03:00',\n",
              "  120,\n",
              "  0.71,\n",
              "  -73.973145,\n",
              "  40.752827,\n",
              "  -73.965897,\n",
              "  40.760445,\n",
              "  'CSH',\n",
              "  4.0,\n",
              "  0.5,\n",
              "  0.5,\n",
              "  0.0,\n",
              "  0.0,\n",
              "  5.0)]"
            ]
          },
          "metadata": {},
          "execution_count": 37
        }
      ]
    },
    {
      "cell_type": "code",
      "source": [
        "counts = taxilinesCorrected.map(lambda x: (x[0], 1)).reduceByKey(add)\n",
        "counts.take(10)"
      ],
      "metadata": {
        "id": "txlFgwIKbtpq",
        "outputId": "646c4955-4630-400a-df21-1aee8bed8f33",
        "colab": {
          "base_uri": "https://localhost:8080/"
        }
      },
      "execution_count": 69,
      "outputs": [
        {
          "output_type": "execute_result",
          "data": {
            "text/plain": [
              "[('0EC22AAF491A8BD91F279350C2B010FD', 1),\n",
              " ('1390FB380189DF6BBFDA4DC847CAD14F', 3),\n",
              " ('3B4129883A1D05BE89F2C929DE136281', 2),\n",
              " ('468244D1361B8A3EB8D206CC394BC9E9', 2),\n",
              " ('5F78CC6D4ECD0541B765FECE17075B6F', 4),\n",
              " ('6BA29E9A69B10F218C1509BEDD7410C2', 4),\n",
              " ('C306CAC565429C12852164EB38175736', 4),\n",
              " ('DD467ED2E7DDB5C8B9B918469604E54F', 2),\n",
              " ('120E700FE35B2DDBEA4D64CCCF02C808', 3),\n",
              " ('256C6A3CA47F81497C1F5038438B54B2', 2)]"
            ]
          },
          "metadata": {},
          "execution_count": 69
        }
      ]
    },
    {
      "cell_type": "code",
      "source": [
        "counts.top(10, lambda x: x[1])"
      ],
      "metadata": {
        "id": "ynZFcD0oXSy_",
        "outputId": "f2a67064-76f5-4948-fb17-8579e00e2778",
        "colab": {
          "base_uri": "https://localhost:8080/"
        }
      },
      "execution_count": 70,
      "outputs": [
        {
          "output_type": "execute_result",
          "data": {
            "text/plain": [
              "[('696321779D687411F2E5DF6991E9D474', 7),\n",
              " ('9B5BE818E3C04896687FFD3C4BF5555F', 6),\n",
              " ('67424A3EE2C533FC4522FFB2C0903E9F', 6),\n",
              " ('06808F2B069EBFA72B16977B7C4672C4', 6),\n",
              " ('2F916CFD5E51E9A620F3D4F9D65D2A7B', 6),\n",
              " ('74AB002C9DEB2BA209464F2960E630B9', 6),\n",
              " ('A15D70A795948BBF608D89738C4EFCF6', 6),\n",
              " ('7CC2C787A937EE1F874D2FFD6BBCD2F0', 5),\n",
              " ('1F9E2C27335E24C6A72069A4A550E3D5', 5),\n",
              " ('8669D9002FF4D63D433C5D9CCA710D7C', 5)]"
            ]
          },
          "metadata": {},
          "execution_count": 70
        }
      ]
    },
    {
      "cell_type": "code",
      "source": [
        "taxilinesCorrected.take(1)"
      ],
      "metadata": {
        "id": "cmNk2Larg-4i",
        "outputId": "498325da-0926-4c95-f1fd-b512fa5777d6",
        "colab": {
          "base_uri": "https://localhost:8080/"
        }
      },
      "execution_count": 65,
      "outputs": [
        {
          "output_type": "execute_result",
          "data": {
            "text/plain": [
              "[('0EC22AAF491A8BD91F279350C2B010FD',\n",
              "  '778C92B26AE78A9EBDF96B49C67E4007',\n",
              "  '2013-01-01 00:01:00',\n",
              "  '2013-01-01 00:03:00',\n",
              "  120,\n",
              "  0.71,\n",
              "  -73.973145,\n",
              "  40.752827,\n",
              "  -73.965897,\n",
              "  40.760445,\n",
              "  'CSH',\n",
              "  4.0,\n",
              "  0.5,\n",
              "  0.5,\n",
              "  0.0,\n",
              "  0.0,\n",
              "  5.0)]"
            ]
          },
          "metadata": {},
          "execution_count": 65
        }
      ]
    },
    {
      "cell_type": "code",
      "source": [
        "time_driver = taxilinesCorrected.map(lambda x: (x[0], x[4]/60)).reduceByKey(lambda x, y : x+y)\n",
        "money_driver = taxilinesCorrected.map(lambda x: (x[0], x[16])).reduceByKey(lambda x, y : x+y)\n"
      ],
      "metadata": {
        "id": "MN5baVMKhfRO"
      },
      "execution_count": 115,
      "outputs": []
    },
    {
      "cell_type": "code",
      "source": [
        "test = taxilinesCorrected.map(lambda x: (x[0], x[16]/x[4]*60)).reduceByKey(lambda x, y : x+y)\n"
      ],
      "metadata": {
        "id": "HFpXtWB-jx8i",
        "outputId": "747d2944-b38a-4333-ddd3-a3060d550132",
        "colab": {
          "base_uri": "https://localhost:8080/"
        }
      },
      "execution_count": 121,
      "outputs": [
        {
          "output_type": "execute_result",
          "data": {
            "text/plain": [
              "[('0EC22AAF491A8BD91F279350C2B010FD', 2.5),\n",
              " ('1390FB380189DF6BBFDA4DC847CAD14F', 4.824999999999999),\n",
              " ('3B4129883A1D05BE89F2C929DE136281', 3.611111111111111),\n",
              " ('468244D1361B8A3EB8D206CC394BC9E9', 2.5719696969696972),\n",
              " ('5F78CC6D4ECD0541B765FECE17075B6F', 7.489285714285715)]"
            ]
          },
          "metadata": {},
          "execution_count": 121
        }
      ]
    },
    {
      "cell_type": "code",
      "source": [
        "test.top(10, lambda x: x[1])"
      ],
      "metadata": {
        "id": "M2gpxY8fmF7X",
        "outputId": "b3625ab5-84bb-42ec-e89d-651d63bbe8fe",
        "colab": {
          "base_uri": "https://localhost:8080/"
        }
      },
      "execution_count": 122,
      "outputs": [
        {
          "output_type": "execute_result",
          "data": {
            "text/plain": [
              "[('696321779D687411F2E5DF6991E9D474', 11.591666666666667),\n",
              " ('54E0A7E84EAFDF6D0C70DC8E8A272FD9', 11.533333333333331),\n",
              " ('8FFD1464685AAE39ECD77415EE4E11A1', 10.57840909090909),\n",
              " ('A15D70A795948BBF608D89738C4EFCF6', 10.566666666666666),\n",
              " ('9B5BE818E3C04896687FFD3C4BF5555F', 10.129852813852814),\n",
              " ('93191F5C828803BF328DFE590A90C20B', 10.027777777777779),\n",
              " ('17A181BBBA33F2D7D45D975CD9DAF2E2', 9.66904761904762),\n",
              " ('DB18E9E94EB754CF15E66B03852EA17B', 9.566666666666666),\n",
              " ('F2751CE89ED7E006D8E9C243FC31D01C', 9.366666666666667),\n",
              " ('CEABFF0193174D655262201BABBADEF0', 9.35)]"
            ]
          },
          "metadata": {},
          "execution_count": 122
        }
      ]
    },
    {
      "cell_type": "code",
      "source": [
        ""
      ],
      "metadata": {
        "id": "I4E7s4dRqyOr",
        "outputId": "d737160c-acf5-4cb9-b4b0-9cbef7816bc4",
        "colab": {
          "base_uri": "https://localhost:8080/"
        }
      },
      "execution_count": 114,
      "outputs": [
        {
          "output_type": "execute_result",
          "data": {
            "text/plain": [
              "[('0EC22AAF491A8BD91F279350C2B010FD', 5.0),\n",
              " ('1390FB380189DF6BBFDA4DC847CAD14F', 5.0),\n",
              " ('3B4129883A1D05BE89F2C929DE136281', 5.0),\n",
              " ('468244D1361B8A3EB8D206CC394BC9E9', 7.5),\n",
              " ('5F78CC6D4ECD0541B765FECE17075B6F', 8.3)]"
            ]
          },
          "metadata": {},
          "execution_count": 114
        }
      ]
    }
  ]
}